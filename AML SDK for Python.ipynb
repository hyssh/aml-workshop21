{
 "cells": [
  {
   "cell_type": "markdown",
   "id": "absent-plane",
   "metadata": {},
   "source": [
    "# Azure Machine Learning SDK for Python"
   ]
  },
  {
   "cell_type": "markdown",
   "id": "copyrighted-interstate",
   "metadata": {},
   "source": [
    "## 1. Workspace\n",
    "\n",
    "[Interactive authentication](https://docs.microsoft.com/en-us/azure/machine-learning/how-to-setup-authentication#use-interactive-authentication)"
   ]
  },
  {
   "cell_type": "markdown",
   "id": "institutional-shape",
   "metadata": {},
   "source": [
    "### Create"
   ]
  },
  {
   "cell_type": "code",
   "execution_count": null,
   "id": "described-generation",
   "metadata": {},
   "outputs": [],
   "source": [
    "# from azureml.core import Workspace\n",
    "# ws = Workspace.create(name='myworkspace',\n",
    "#                       subscription_id='<azure-subscription-id>',\n",
    "#                       resource_group='myresourcegroup',\n",
    "#                       create_resource_group=True,\n",
    "#                       location='eastus2'\n",
    "#                      )"
   ]
  },
  {
   "cell_type": "markdown",
   "id": "certified-liberia",
   "metadata": {},
   "source": [
    "### Load"
   ]
  },
  {
   "cell_type": "code",
   "execution_count": null,
   "id": "according-tuition",
   "metadata": {},
   "outputs": [],
   "source": [
    "from azureml.core import Workspace\n",
    "\n",
    "# ws = Workspace.get(name=\"myworkspace\", subscription_id='<azure-subscription-id>', resource_group='myresourcegroup')\n",
    "ws = Workspace.from_config()\n",
    "ws"
   ]
  },
  {
   "cell_type": "markdown",
   "id": "shared-netscape",
   "metadata": {},
   "source": [
    "## 2. Experiment"
   ]
  },
  {
   "cell_type": "markdown",
   "id": "viral-wednesday",
   "metadata": {},
   "source": [
    "### Create"
   ]
  },
  {
   "cell_type": "code",
   "execution_count": null,
   "id": "changed-department",
   "metadata": {},
   "outputs": [],
   "source": [
    "from azureml.core.experiment import Experiment\n",
    "\n",
    "experiment = Experiment(workspace=ws, name='test-experiment')\n",
    "experiment"
   ]
  },
  {
   "cell_type": "markdown",
   "id": "brazilian-frequency",
   "metadata": {},
   "source": [
    "### List"
   ]
  },
  {
   "cell_type": "code",
   "execution_count": null,
   "id": "orange-partner",
   "metadata": {},
   "outputs": [],
   "source": [
    "list_experiments = Experiment.list(ws)\n",
    "\n",
    "list_experiments"
   ]
  },
  {
   "cell_type": "markdown",
   "id": "canadian-albuquerque",
   "metadata": {},
   "source": [
    "### Get Runs"
   ]
  },
  {
   "cell_type": "code",
   "execution_count": null,
   "id": "sophisticated-badge",
   "metadata": {},
   "outputs": [],
   "source": [
    "list_runs = experiment.get_runs()\n",
    "\n",
    "for run in list_runs:\n",
    "    print(run.id)"
   ]
  },
  {
   "cell_type": "markdown",
   "id": "soviet-diamond",
   "metadata": {},
   "source": [
    "### Tag"
   ]
  },
  {
   "cell_type": "code",
   "execution_count": null,
   "id": "filled-providence",
   "metadata": {},
   "outputs": [],
   "source": [
    "experiment.tag(\"prod\",\"phase-1-model-test\")"
   ]
  },
  {
   "cell_type": "markdown",
   "id": "previous-genealogy",
   "metadata": {},
   "source": [
    "## 3. Run"
   ]
  },
  {
   "cell_type": "markdown",
   "id": "tender-boxing",
   "metadata": {},
   "source": []
  },
  {
   "cell_type": "code",
   "execution_count": null,
   "id": "german-agenda",
   "metadata": {},
   "outputs": [],
   "source": [
    "run = experiment.start_logging()\n",
    "run.id"
   ]
  },
  {
   "cell_type": "markdown",
   "id": "stretch-affect",
   "metadata": {},
   "source": [
    "experiment.tag(\"prod\",\"phase-1-model-test\")"
   ]
  },
  {
   "cell_type": "code",
   "execution_count": null,
   "id": "dangerous-scientist",
   "metadata": {},
   "outputs": [],
   "source": [
    "from azureml.core.run import Run\n",
    "\n",
    "all_runs = Run.list(experiment)\n",
    "\n",
    "for r in all_runs:\n",
    "    print(r)"
   ]
  },
  {
   "cell_type": "markdown",
   "id": "emerging-rally",
   "metadata": {},
   "source": [
    "### Get run in details"
   ]
  },
  {
   "cell_type": "code",
   "execution_count": null,
   "id": "square-deposit",
   "metadata": {},
   "outputs": [],
   "source": [
    "run_details = run.get_details()\n",
    "run_details"
   ]
  },
  {
   "cell_type": "code",
   "execution_count": null,
   "id": "earned-moses",
   "metadata": {},
   "outputs": [],
   "source": [
    "run.complete()"
   ]
  },
  {
   "cell_type": "markdown",
   "id": "dangerous-judge",
   "metadata": {},
   "source": [
    "## Model"
   ]
  },
  {
   "cell_type": "code",
   "execution_count": null,
   "id": "communist-metropolitan",
   "metadata": {},
   "outputs": [],
   "source": [
    "from sklearn import svm\n",
    "import joblib\n",
    "import numpy as np\n",
    "\n",
    "# customer ages\n",
    "X_train = np.array([50, 17, 35, 23, 28, 40, 31, 29, 19, 62])\n",
    "X_train = X_train.reshape(-1, 1)\n",
    "# churn y/n\n",
    "y_train = [\"yes\", \"no\", \"no\", \"no\", \"yes\", \"yes\", \"yes\", \"no\", \"no\", \"yes\"]\n",
    "\n",
    "clf = svm.SVC(gamma=0.001, C=100.)\n",
    "clf.fit(X_train, y_train)\n",
    "\n",
    "joblib.dump(value=clf, filename=\"churn-model.pkl\")"
   ]
  },
  {
   "cell_type": "markdown",
   "id": "partial-gnome",
   "metadata": {},
   "source": [
    "### Register Model"
   ]
  },
  {
   "cell_type": "code",
   "execution_count": null,
   "id": "boxed-thinking",
   "metadata": {},
   "outputs": [],
   "source": [
    "from azureml.core.model import Model\n",
    "\n",
    "model = Model.register(workspace=ws, model_path=\"churn-model.pkl\", model_name=\"churn-model-test\")"
   ]
  },
  {
   "cell_type": "markdown",
   "id": "voluntary-crime",
   "metadata": {},
   "source": [
    "### Download Model"
   ]
  },
  {
   "cell_type": "code",
   "execution_count": null,
   "id": "divine-pharmaceutical",
   "metadata": {},
   "outputs": [],
   "source": [
    "from azureml.core.model import Model\n",
    "import os\n",
    "\n",
    "modelv1 = Model(workspace=ws, name=\"churn-model-test\")\n",
    "modelv1.download(target_dir=os.getcwd(), exist_ok=True)\n",
    "modelv1"
   ]
  },
  {
   "cell_type": "markdown",
   "id": "typical-surveillance",
   "metadata": {},
   "source": [
    "### Delete Model"
   ]
  },
  {
   "cell_type": "code",
   "execution_count": null,
   "id": "configured-decimal",
   "metadata": {},
   "outputs": [],
   "source": [
    "model.delete()"
   ]
  },
  {
   "cell_type": "markdown",
   "id": "challenging-speaker",
   "metadata": {},
   "source": [
    "## ComputeTarget, RunConfiguration, and ScriptRunConfig"
   ]
  },
  {
   "cell_type": "markdown",
   "id": "unlikely-population",
   "metadata": {},
   "source": [
    "### Train on Remote Compute"
   ]
  },
  {
   "cell_type": "code",
   "execution_count": null,
   "id": "amino-feature",
   "metadata": {},
   "outputs": [],
   "source": [
    "%%writefile train.py\n",
    "\n",
    "from sklearn import svm\n",
    "import numpy as np\n",
    "import joblib\n",
    "import os\n",
    "\n",
    "# customer ages\n",
    "X_train = np.array([50, 17, 35, 23, 28, 40, 31, 29, 19, 62])\n",
    "X_train = X_train.reshape(-1, 1)\n",
    "# churn y/n\n",
    "y_train = [\"yes\", \"no\", \"no\", \"no\", \"yes\", \"yes\", \"yes\", \"no\", \"no\", \"yes\"]\n",
    "\n",
    "clf = svm.SVC(gamma=0.001, C=100.)\n",
    "clf.fit(X_train, y_train)\n",
    "\n",
    "os.makedirs(\"outputs\", exist_ok=True)\n",
    "joblib.dump(value=clf, filename=\"outputs/churn-model.pkl\")"
   ]
  },
  {
   "cell_type": "markdown",
   "id": "crucial-cutting",
   "metadata": {},
   "source": [
    "### RunConfiguration"
   ]
  },
  {
   "cell_type": "code",
   "execution_count": null,
   "id": "stock-animation",
   "metadata": {},
   "outputs": [],
   "source": [
    "from azureml.core.runconfig import RunConfiguration\n",
    "from azureml.core.compute import AmlCompute\n",
    "list_vms = AmlCompute.supported_vmsizes(workspace=ws)\n",
    "\n",
    "compute_config = RunConfiguration()\n",
    "compute_config.target = \"cpu-cc-training\"\n",
    "compute_config.amlcompute.vm_size = \"STANDARD_DS3_V2\""
   ]
  },
  {
   "cell_type": "markdown",
   "id": "municipal-mainstream",
   "metadata": {},
   "source": [
    "### Dependencies\n",
    "\n",
    "Training environment details are in the next cell."
   ]
  },
  {
   "cell_type": "code",
   "execution_count": null,
   "id": "median-arbor",
   "metadata": {},
   "outputs": [],
   "source": [
    "from azureml.core.conda_dependencies import CondaDependencies\n",
    "\n",
    "dependencies = CondaDependencies()\n",
    "dependencies.add_pip_package(\"scikit-learn\")\n",
    "dependencies.add_pip_package(\"numpy==1.15.4\")\n",
    "compute_config.environment.python.conda_dependencies = dependencies"
   ]
  },
  {
   "cell_type": "markdown",
   "id": "third-outside",
   "metadata": {},
   "source": [
    "### ScriptRunConfig"
   ]
  },
  {
   "cell_type": "code",
   "execution_count": null,
   "id": "behind-wheat",
   "metadata": {
    "scrolled": true
   },
   "outputs": [],
   "source": [
    "from azureml.core.experiment import Experiment\n",
    "from azureml.core import ScriptRunConfig\n",
    "\n",
    "script_run_config = ScriptRunConfig(source_directory=os.getcwd(), script=\"train.py\", run_config=compute_config)\n",
    "experiment = Experiment(workspace=ws, name=\"compute_target_test\")\n",
    "run = experiment.submit(config=script_run_config)\n",
    "# run.wait_for_completion(show_output=True)"
   ]
  },
  {
   "cell_type": "markdown",
   "id": "forty-output",
   "metadata": {},
   "source": [
    "## Environment"
   ]
  },
  {
   "cell_type": "code",
   "execution_count": null,
   "id": "pressed-interval",
   "metadata": {},
   "outputs": [],
   "source": [
    "from azureml.core.environment import Environment\n",
    "\n",
    "myenv = Environment(name=\"myenv\")\n",
    "myenv"
   ]
  },
  {
   "cell_type": "code",
   "execution_count": null,
   "id": "sharp-bible",
   "metadata": {},
   "outputs": [],
   "source": [
    "from azureml.core.conda_dependencies import CondaDependencies\n",
    "\n",
    "conda_dep = CondaDependencies()\n",
    "\n",
    "# Installs numpy version 1.17.0 conda package\n",
    "conda_dep.add_conda_package(\"numpy==1.17.0\")\n",
    "\n",
    "# Installs pillow package\n",
    "conda_dep.add_pip_package(\"pillow\")\n",
    "\n",
    "# Adds dependencies to PythonSection of myenv\n",
    "myenv.python.conda_dependencies=conda_dep\n",
    "\n",
    "myenv"
   ]
  },
  {
   "cell_type": "markdown",
   "id": "received-hunter",
   "metadata": {},
   "source": [
    "## Model Deploy"
   ]
  },
  {
   "cell_type": "code",
   "execution_count": null,
   "id": "unlike-nebraska",
   "metadata": {},
   "outputs": [],
   "source": [
    "%%writefile score.py\n",
    "import json\n",
    "import numpy as np\n",
    "import os\n",
    "from sklearn.externals import joblib\n",
    "\n",
    "\n",
    "def init():\n",
    "    global model\n",
    "    model_path = os.path.join(os.getenv('AZUREML_MODEL_DIR'), 'churn-model.pkl')\n",
    "    model = joblib.load(model_path)\n",
    "\n",
    "def run(data):\n",
    "    try:\n",
    "        data = np.array(json.loads(data))\n",
    "        result = model.predict(data)\n",
    "        # You can return any data type, as long as it is JSON serializable.\n",
    "        return result.tolist()\n",
    "    except Exception as e:\n",
    "        error = str(e)\n",
    "        return error"
   ]
  },
  {
   "cell_type": "code",
   "execution_count": null,
   "id": "fleet-aircraft",
   "metadata": {},
   "outputs": [],
   "source": [
    "from azureml.core.model import InferenceConfig, Model\n",
    "from azureml.core.webservice import AciWebservice, Webservice\n",
    "\n",
    "# Register the model to deploy\n",
    "model = run.register_model(model_name = \"churn-model-test\", model_path = \"outputs/churn-model.pkl\")\n",
    "\n",
    "# Combine scoring script & environment in Inference configuration\n",
    "inference_config = InferenceConfig(entry_script=\"score.py\",\n",
    "                                   environment=myenv)\n",
    "\n",
    "# Set deployment configuration\n",
    "deployment_config = AciWebservice.deploy_configuration(cpu_cores = 1,\n",
    "                                                       memory_gb = 1)\n",
    "\n",
    "# Define the model, inference, & deployment configuration and web service name and location to deploy\n",
    "service = Model.deploy(workspace = ws,\n",
    "                       name = \"amlworkshop22\", #change name to be unique\n",
    "                       models = [model],\n",
    "                       inference_config = inference_config,\n",
    "                       deployment_config = deployment_config)\n",
    "\n",
    "service"
   ]
  },
  {
   "cell_type": "code",
   "execution_count": null,
   "id": "generous-tribe",
   "metadata": {},
   "outputs": [],
   "source": [
    "service"
   ]
  },
  {
   "cell_type": "code",
   "execution_count": null,
   "id": "corporate-paint",
   "metadata": {},
   "outputs": [],
   "source": []
  }
 ],
 "metadata": {
  "kernelspec": {
   "display_name": "Python 3.6 - AzureML",
   "language": "python",
   "name": "python3-azureml"
  },
  "language_info": {
   "codemirror_mode": {
    "name": "ipython",
    "version": 3
   },
   "file_extension": ".py",
   "mimetype": "text/x-python",
   "name": "python",
   "nbconvert_exporter": "python",
   "pygments_lexer": "ipython3",
   "version": "3.6.9"
  }
 },
 "nbformat": 4,
 "nbformat_minor": 5
}
